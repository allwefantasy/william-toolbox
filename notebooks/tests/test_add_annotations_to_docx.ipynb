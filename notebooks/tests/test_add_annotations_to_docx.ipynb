{
 "cells": [
  {
   "cell_type": "markdown",
   "metadata": {},
   "source": [
    "# Test add_annotations_to_docx\n",
    "\n",
    "This notebook tests the `add_annotations_to_docx` function from `src/williamtoolbox/annotation.py`.\n",
    "\n",
    "## Function Overview\n",
    "\n",
    "The `add_annotations_to_docx` function adds annotations to a Word document. It takes two parameters:\n",
    "- file_path: Path to the Word document\n",
    "- annotations: List of Annotation objects containing text and comment pairs\n",
    "\n",
    "## Setup\n",
    "\n",
    "First, let's import necessary modules and create a test document."
   ]
  },
  {
   "cell_type": "code",
   "execution_count": null,
   "metadata": {},
   "outputs": [],
   "source": [
    "import os\n",
    "from pathlib import Path\n",
    "from docx import Document\n",
    "from williamtoolbox.annotation import add_annotations_to_docx, Annotation\n",
    "\n",
    "# Create a test directory\n",
    "test_dir = Path(\"./test_docs\")\n",
    "test_dir.mkdir(exist_ok=True)\n",
    "\n",
    "# Create a simple test document\n",
    "test_doc_path = test_dir / \"test_document.docx\"\n",
    "doc = Document()\n",
    "doc.add_paragraph(\"This is a test paragraph.\")\n",
    "doc.add_paragraph(\"Another paragraph for testing.\")\n",
    "doc.save(test_doc_path)\n",
    "\n",
    "print(f\"Test document created at: {test_doc_path}\")"
   ]
  },
  {
   "cell_type": "markdown",
   "metadata": {},
   "source": [
    "## Test Case 1: Basic Annotation\n",
    "\n",
    "Let's test adding a single annotation to the document."
   ]
  },
  {
   "cell_type": "code",
   "execution_count": null,
   "metadata": {},
   "outputs": [],
   "source": [
    "# Create test annotations\n",
    "annotations = [\n",
    "    Annotation(text=\"This is a test paragraph\", comment=\"This is a test comment\")\n",
    "]\n",
    "\n",
    "# Add annotations to document\n",
    "add_annotations_to_docx(str(test_doc_path), annotations)\n",
    "\n",
    "# Verify the output\n",
    "output_path = test_dir / \"test_document_annotated.docx\"\n",
    "print(f\"Annotated document saved to: {output_path}\")\n",
    "\n",
    "# Open and check the document\n",
    "doc = Document(output_path)\n",
    "for para in doc.paragraphs:\n",
    "    print(para.text)\n",
    "    if para._element.xpath('.//w:comment'):\n",
    "        print(\"Found comment in paragraph:\", para.text)"
   ]
  },
  {
   "cell_type": "markdown",
   "metadata": {},
   "source": [
    "## Test Case 2: Multiple Annotations\n",
    "\n",
    "Test adding multiple annotations to different paragraphs."
   ]
  },
  {
   "cell_type": "code",
   "execution_count": null,
   "metadata": {},
   "outputs": [],
   "source": [
    "# Create multiple annotations\n",
    "annotations = [\n",
    "    Annotation(text=\"This is a test paragraph\", comment=\"First comment\"),\n",
    "    Annotation(text=\"Another paragraph for testing\", comment=\"Second comment\")\n",
    "]\n",
    "\n",
    "# Add annotations\n",
    "add_annotations_to_docx(str(test_doc_path), annotations)\n",
    "\n",
    "# Verify the output\n",
    "output_path = test_dir / \"test_document_multiple_annotated.docx\"\n",
    "print(f\"Annotated document saved to: {output_path}\")\n",
    "\n",
    "# Open and check the document\n",
    "doc = Document(output_path)\n",
    "for para in doc.paragraphs:\n",
    "    print(para.text)\n",
    "    if para._element.xpath('.//w:comment'):\n",
    "        print(\"Found comment in paragraph:\", para.text)"
   ]
  },
  {
   "cell_type": "markdown",
   "metadata": {},
   "source": [
    "## Test Case 3: Error Handling\n",
    "\n",
    "Test error cases such as non-existent file and empty annotations."
   ]
  },
  {
   "cell_type": "code",
   "execution_count": null,
   "metadata": {},
   "outputs": [],
   "source": [
    "import pytest\n",
    "\n",
    "# Test non-existent file\n",
    "try:\n",
    "    add_annotations_to_docx(\"non_existent.docx\", annotations)\n",
    "except Exception as e:\n",
    "    print(f\"Expected error for non-existent file: {str(e)}\")\n",
    "\n",
    "# Test empty annotations\n",
    "try:\n",
    "    add_annotations_to_docx(str(test_doc_path), [])\n",
    "    print(\"No error for empty annotations\")\n",
    "except Exception as e:\n",
    "    print(f\"Error for empty annotations: {str(e)}\")"
   ]
  },
  {
   "cell_type": "markdown",
   "metadata": {},
   "source": [
    "## Cleanup\n",
    "\n",
    "Remove test files after testing."
   ]
  },
  {
   "cell_type": "code",
   "execution_count": null,
   "metadata": {},
   "outputs": [],
   "source": [
    "# Remove test files\n",
    "for file in test_dir.glob(\"*\"):\n",
    "    file.unlink()\n",
    "test_dir.rmdir()\n",
    "print(\"Test files cleaned up\")"
   ]
  }
 ],
 "metadata": {
  "kernelspec": {
   "display_name": "Python 3",
   "language": "python",
   "name": "python3"
  },
  "language_info": {
   "codemirror_mode": {
    "name": "ipython",
    "version": 3
   },
   "file_extension": ".py",
   "mimetype": "text/x-python",
   "name": "python",
   "nbconvert_exporter": "python",
   "pygments_lexer": "ipython3",
   "version": "3.10.11"
  }
 },
 "nbformat": 4,
 "nbformat_minor": 4
}